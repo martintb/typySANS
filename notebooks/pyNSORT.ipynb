{
 "cells": [
  {
   "cell_type": "markdown",
   "metadata": {},
   "source": [
    "# NSORT with Python\n",
    "- Author: Tyler Martin \n",
    "- Contact: tyler.martin@nist.gov\n",
    "- Last updated: 03/18/19\n",
    "- Version: 0.3-dev\n",
    "\n",
    "The goal of this notebook is to allow users to interactively stitch together **reduced** ABS files produced from the NCNR Igor macros. It should be highlighted that this file only does the NSORT portion of the reduction process i.e. the combining of reduced scattering data from multiple configurations into a single curve. \n",
    "\n",
    "This notebook works by comparing the trial/sample portion of the trial label and combining those measurements together. For example, if you had the following sets of measurement labels\n",
    "\n",
    "- AC5-116 1p15m 5A Offset Scatt\n",
    "- AC5-116 4p7m 5A Scatt\n",
    "- AC5-116 4p7m 12A Scatt\n",
    "- AC5-117 1p15m 5A Offset Scatt\n",
    "- AC5-117 4p7m 5A Scatt\n",
    "- AC5-117 4p7m 12A Scatt\n",
    "\n",
    "..your goal would be to construct a regular-expression (regex) to extract the \"AC5-11x\" portion of the measurement labels so that the first three and last three measurements could be combined into a single curve. \n",
    "\n",
    "## Global Instructions\n",
    "\n",
    "- This notebook should be worked through linearly from top to bottom\n",
    "- All cells can be run by using the 'play' symbol in the toolbar or by pressing [Shift] + [Enter] simultaneously\n",
    "- Sections headers denote user interaction\n",
    "    - !> cells in this section require interaction/modification by user\n",
    "    - \\>\\> cell in this section should just be run and output checked\n"
   ]
  },
  {
   "cell_type": "markdown",
   "metadata": {},
   "source": [
    "## >> Setting up environment\n",
    "\n",
    "The next several cells may take up to a minute or two to finish running."
   ]
  },
  {
   "cell_type": "code",
   "execution_count": 33,
   "metadata": {},
   "outputs": [],
   "source": [
    "import numpy as np\n",
    "import pandas as pd\n",
    "import matplotlib.pyplot as plt\n",
    "import ipywidgets\n",
    "import pathlib\n",
    "import re\n",
    "import time\n",
    "\n",
    "from typySANS.InteractiveTrimPlot import *"
   ]
  },
  {
   "cell_type": "markdown",
   "metadata": {},
   "source": [
    "The next cell is non-essential and can be skipped if it fails (i.e. if Seaborn is not installed) "
   ]
  },
  {
   "cell_type": "code",
   "execution_count": 34,
   "metadata": {},
   "outputs": [],
   "source": [
    "#if this fails, change widget --> notebook\n",
    "import seaborn as sns\n",
    "sns.set(context='notebook',style='ticks',palette='bright')"
   ]
  },
  {
   "cell_type": "markdown",
   "metadata": {},
   "source": [
    "If the next cell fails either\n",
    "    \n",
    "    a) Install ipympl via conda or pip (conda install -c conda-forge ipympl)\n",
    "    \n",
    "    b) Change widget --> notebook"
   ]
  },
  {
   "cell_type": "code",
   "execution_count": 35,
   "metadata": {},
   "outputs": [],
   "source": [
    "%matplotlib widget "
   ]
  },
  {
   "cell_type": "code",
   "execution_count": 36,
   "metadata": {},
   "outputs": [
    {
     "name": "stdout",
     "output_type": "stream",
     "text": [
      "The autoreload extension is already loaded. To reload it, use:\n",
      "  %reload_ext autoreload\n"
     ]
    }
   ],
   "source": [
    "%load_ext autoreload\n",
    "%autoreload 2"
   ]
  },
  {
   "cell_type": "code",
   "execution_count": 37,
   "metadata": {},
   "outputs": [],
   "source": [
    "#hack in the typySANS directory to the PYTHONPATH (for now)\n",
    "import sys\n",
    "sys.path.insert(0,'../')"
   ]
  },
  {
   "cell_type": "markdown",
   "metadata": {},
   "source": [
    "## !> Pick path to .ABS files\n",
    "\n",
    "The title says it! Write in the path to your reduced ABS files. Use [Tab] to autocomplete the paths as you type them"
   ]
  },
  {
   "cell_type": "code",
   "execution_count": 38,
   "metadata": {},
   "outputs": [],
   "source": [
    "ABS_path = pathlib.Path('../dev/1804-BottleBrush/2018-11-08 NGBSANS83 - solvents/reduction')\n",
    "ABS_path = pathlib.Path('../dev/1804-BottleBrush/2018-08-17-Burns-Bottlebrushes/BOTTLEBRUSH/RAW/')"
   ]
  },
  {
   "cell_type": "markdown",
   "metadata": {},
   "source": [
    "## >> Scan the .ABS files and build label table"
   ]
  },
  {
   "cell_type": "code",
   "execution_count": 39,
   "metadata": {},
   "outputs": [
    {
     "data": {
      "text/html": [
       "<div>\n",
       "<style scoped>\n",
       "    .dataframe tbody tr th:only-of-type {\n",
       "        vertical-align: middle;\n",
       "    }\n",
       "\n",
       "    .dataframe tbody tr th {\n",
       "        vertical-align: top;\n",
       "    }\n",
       "\n",
       "    .dataframe thead th {\n",
       "        text-align: right;\n",
       "    }\n",
       "</style>\n",
       "<table border=\"1\" class=\"dataframe\">\n",
       "  <thead>\n",
       "    <tr style=\"text-align: right;\">\n",
       "      <th></th>\n",
       "      <th>file_path</th>\n",
       "      <th>label</th>\n",
       "    </tr>\n",
       "    <tr>\n",
       "      <th>file_name</th>\n",
       "      <th></th>\n",
       "      <th></th>\n",
       "    </tr>\n",
       "  </thead>\n",
       "  <tbody>\n",
       "    <tr>\n",
       "      <th>AUG17031.ABS</th>\n",
       "      <td>../dev/1804-BottleBrush/2018-08-17-Burns-Bottl...</td>\n",
       "      <td>AC5-116-42k dPS 4p7m 5A Scatt T=25</td>\n",
       "    </tr>\n",
       "    <tr>\n",
       "      <th>AUG17038.ABS</th>\n",
       "      <td>../dev/1804-BottleBrush/2018-08-17-Burns-Bottl...</td>\n",
       "      <td>AC5-118-42k dPS 4p7m 16A Scatt T=25</td>\n",
       "    </tr>\n",
       "    <tr>\n",
       "      <th>AUG17037.ABS</th>\n",
       "      <td>../dev/1804-BottleBrush/2018-08-17-Burns-Bottl...</td>\n",
       "      <td>AC5-117-42k dPS 4p7m 16A Scatt T=25</td>\n",
       "    </tr>\n",
       "    <tr>\n",
       "      <th>AUG17068.ABS</th>\n",
       "      <td>../dev/1804-BottleBrush/2018-08-17-Burns-Bottl...</td>\n",
       "      <td>AC5-122-CHXd12 1p15m 5A Offset Scatt  T=41.4</td>\n",
       "    </tr>\n",
       "    <tr>\n",
       "      <th>AUG17056.ABS</th>\n",
       "      <td>../dev/1804-BottleBrush/2018-08-17-Burns-Bottl...</td>\n",
       "      <td>AC5-116-42k dPS 1p15m 5A Offset Scatt  T=25</td>\n",
       "    </tr>\n",
       "  </tbody>\n",
       "</table>\n",
       "</div>"
      ],
      "text/plain": [
       "                                                      file_path  \\\n",
       "file_name                                                         \n",
       "AUG17031.ABS  ../dev/1804-BottleBrush/2018-08-17-Burns-Bottl...   \n",
       "AUG17038.ABS  ../dev/1804-BottleBrush/2018-08-17-Burns-Bottl...   \n",
       "AUG17037.ABS  ../dev/1804-BottleBrush/2018-08-17-Burns-Bottl...   \n",
       "AUG17068.ABS  ../dev/1804-BottleBrush/2018-08-17-Burns-Bottl...   \n",
       "AUG17056.ABS  ../dev/1804-BottleBrush/2018-08-17-Burns-Bottl...   \n",
       "\n",
       "                                                     label  \n",
       "file_name                                                   \n",
       "AUG17031.ABS            AC5-116-42k dPS 4p7m 5A Scatt T=25  \n",
       "AUG17038.ABS           AC5-118-42k dPS 4p7m 16A Scatt T=25  \n",
       "AUG17037.ABS           AC5-117-42k dPS 4p7m 16A Scatt T=25  \n",
       "AUG17068.ABS  AC5-122-CHXd12 1p15m 5A Offset Scatt  T=41.4  \n",
       "AUG17056.ABS   AC5-116-42k dPS 1p15m 5A Offset Scatt  T=25  "
      ]
     },
     "execution_count": 39,
     "metadata": {},
     "output_type": "execute_result"
    }
   ],
   "source": [
    "dfLabel =[]\n",
    "for file_path in ABS_path.glob('*ABS'):\n",
    "    file_name = file_path.parts[-1]\n",
    "    \n",
    "    with open(file_path,'r') as f:\n",
    "        lines = [f.readline() for _ in range(4)]\n",
    "        \n",
    "    ## We don't want COMBINED ABS files\n",
    "    if 'COMBINED' in lines[0]:\n",
    "        continue\n",
    "        \n",
    "    ## Parse the LABEL: row\n",
    "    raw_label = lines[1].strip().split(':')[-1].strip()\n",
    "    dfLabel.append([file_name,file_path,raw_label])\n",
    "\n",
    "dfLabel = pd.DataFrame(dfLabel,columns=['file_name','file_path','label'])\n",
    "dfLabel = dfLabel.set_index('file_name').squeeze()\n",
    "dfLabel.head()"
   ]
  },
  {
   "cell_type": "markdown",
   "metadata": {},
   "source": [
    "## !> Build regex to extract trial label\n",
    "\n",
    "The goal here is to construct a 'regular expression' (i.e. a regex) that will extract the **non-configuration** portion of the trial label. This entire notebook works by finding the portion of the label that is common between the different instrument configurations and combining them. The key is to precisely construct this regex so that the correct measurements will be combined together. \n",
    "\n",
    "Some general regex  notes:\n",
    "- A period \".\" represents any alphanumeric character\n",
    "- A star \"\\*\" denotes that the **previous** character can be repeated any number of times (including zero times)\n",
    "- A question mark \"?\" denotes that the **previous** character occurs either 0 or 1 times\n",
    "- Parenthesis () denote 'caputure' groups. These is how we extract substrings\n",
    "- Brackets [] denote character lists i.e. [mA] is a single character equal to m **or** A"
   ]
  },
  {
   "cell_type": "markdown",
   "metadata": {},
   "source": [
    "Example 1:\n",
    "\n",
    "    Consider the following set of measurement labels\n",
    "    \n",
    "    - AC5-116 1p15m 5A Offset Scatt\n",
    "    - AC5-116 4p7m 5A Scatt\n",
    "    - AC5-116 4p7m 12A Scatt\n",
    "    - AC5-117 1p15m 5A Offset Scatt\n",
    "    - AC5-117 4p7m 5A Scatt\n",
    "    - AC5-117 4p7m 12A Scatt\n",
    "    \n",
    "    ..your goal would be to construct a regular-expression (regex) to extract the \"AC5-11x\" portion of the measurement labels so that the first three and last three measurements could be combined into a single curve. The following regular expressions would work in this case:\n",
    "    \n",
    "    - (AC5.*)\\s\n",
    "    - (.*)\\s\n",
    "    - ([0-9a-zA-Z-]\\*)\n",
    "    - (.{7})\\s\n",
    "    \n",
    "Example 2:\n",
    "\n",
    "    - Full Sample Label: AC5-116-42k dPS 4p7m 5A Scatt T=25\n",
    "    - Regex: (.*) dPS \n",
    "        - Explanation: Capture 0 or more characters which precede the characters dPS\n",
    "    - Captured Groups: (' AC5-116-42k')\n",
    "\n",
    "\n",
    "**Note**: This code will always use the *first* capture group as the trial label"
   ]
  },
  {
   "cell_type": "code",
   "execution_count": 41,
   "metadata": {},
   "outputs": [
    {
     "data": {
      "application/vnd.jupyter.widget-view+json": {
       "model_id": "1ee4606d15c04d92bbaf7a6e25d863c4",
       "version_major": 2,
       "version_minor": 0
      },
      "text/plain": [
       "VBox(children=(Dropdown(description='Label:', layout=Layout(width='450px'), options=('AC5-116-42k dPS 4p7m 5A …"
      ]
     },
     "metadata": {},
     "output_type": "display_data"
    }
   ],
   "source": [
    "# this is a general regex that works well for many samples coming off of the 10m\n",
    "# regex_init = '(.*)\\s*(.*)[mA]\\s*(.*)[mA]'\n",
    "regex_init = '(.*)\\s*(.*)[mA]\\s*(.*)[mA]'\n",
    "\n",
    "label = ipywidgets.Dropdown(options=dfLabel['label'].values,description='Label:',layout={'width':'450px'})\n",
    "regex = ipywidgets.Text(value=regex_init,description='Regex:',layout={'width':'600px'})\n",
    "output = ipywidgets.Output()\n",
    "\n",
    "def match(event):\n",
    "    output.clear_output()\n",
    "    with output:\n",
    "        try:\n",
    "            re_result = re.search(regex.value,label.value)\n",
    "        except re.error:\n",
    "            print('Error! Bad regular-expression!')\n",
    "        else:\n",
    "            if re_result is None:\n",
    "                print('Error! No match!')\n",
    "            else:\n",
    "                groups = re_result.groups()\n",
    "                print('\\n')\n",
    "                print('All Groups: {}'.format(groups))\n",
    "                print()\n",
    "                print('Extracted Trial Label: {}'.format(groups[0]))\n",
    "\n",
    "label.observe(match)\n",
    "regex.observe(match)\n",
    "match(None)\n",
    "display(ipywidgets.VBox([label,regex,output]))"
   ]
  },
  {
   "cell_type": "markdown",
   "metadata": {},
   "source": [
    "## >> Gather trial labels and configuration information\n",
    "\n",
    "If you created a correct regex for *all* trials above, this cell should correctly produce a table with the extracted trial label along with the sample to detector distance (SDD) and wavelength (LAM) as well."
   ]
  },
  {
   "cell_type": "code",
   "execution_count": 42,
   "metadata": {},
   "outputs": [
    {
     "data": {
      "text/html": [
       "<div>\n",
       "<style scoped>\n",
       "    .dataframe tbody tr th:only-of-type {\n",
       "        vertical-align: middle;\n",
       "    }\n",
       "\n",
       "    .dataframe tbody tr th {\n",
       "        vertical-align: top;\n",
       "    }\n",
       "\n",
       "    .dataframe thead th {\n",
       "        text-align: right;\n",
       "    }\n",
       "</style>\n",
       "<table border=\"1\" class=\"dataframe\">\n",
       "  <thead>\n",
       "    <tr style=\"text-align: right;\">\n",
       "      <th></th>\n",
       "      <th>label</th>\n",
       "      <th>SDD</th>\n",
       "      <th>LAM</th>\n",
       "      <th>file_name</th>\n",
       "      <th>file_path</th>\n",
       "    </tr>\n",
       "  </thead>\n",
       "  <tbody>\n",
       "    <tr>\n",
       "      <th>4</th>\n",
       "      <td>AC5-116-42</td>\n",
       "      <td>1.15</td>\n",
       "      <td>5.0</td>\n",
       "      <td>AUG17056.ABS</td>\n",
       "      <td>../dev/1804-BottleBrush/2018-08-17-Burns-Bottl...</td>\n",
       "    </tr>\n",
       "    <tr>\n",
       "      <th>0</th>\n",
       "      <td>AC5-116-42</td>\n",
       "      <td>4.70</td>\n",
       "      <td>5.0</td>\n",
       "      <td>AUG17031.ABS</td>\n",
       "      <td>../dev/1804-BottleBrush/2018-08-17-Burns-Bottl...</td>\n",
       "    </tr>\n",
       "    <tr>\n",
       "      <th>10</th>\n",
       "      <td>AC5-116-42</td>\n",
       "      <td>4.70</td>\n",
       "      <td>10.0</td>\n",
       "      <td>AUG17051.ABS</td>\n",
       "      <td>../dev/1804-BottleBrush/2018-08-17-Burns-Bottl...</td>\n",
       "    </tr>\n",
       "    <tr>\n",
       "      <th>30</th>\n",
       "      <td>AC5-116-42</td>\n",
       "      <td>4.70</td>\n",
       "      <td>16.0</td>\n",
       "      <td>AUG17036.ABS</td>\n",
       "      <td>../dev/1804-BottleBrush/2018-08-17-Burns-Bottl...</td>\n",
       "    </tr>\n",
       "    <tr>\n",
       "      <th>16</th>\n",
       "      <td>AC5-116-CH</td>\n",
       "      <td>1.15</td>\n",
       "      <td>5.0</td>\n",
       "      <td>AUG17062.ABS</td>\n",
       "      <td>../dev/1804-BottleBrush/2018-08-17-Burns-Bottl...</td>\n",
       "    </tr>\n",
       "  </tbody>\n",
       "</table>\n",
       "</div>"
      ],
      "text/plain": [
       "         label   SDD   LAM     file_name  \\\n",
       "4   AC5-116-42  1.15   5.0  AUG17056.ABS   \n",
       "0   AC5-116-42  4.70   5.0  AUG17031.ABS   \n",
       "10  AC5-116-42  4.70  10.0  AUG17051.ABS   \n",
       "30  AC5-116-42  4.70  16.0  AUG17036.ABS   \n",
       "16  AC5-116-CH  1.15   5.0  AUG17062.ABS   \n",
       "\n",
       "                                            file_path  \n",
       "4   ../dev/1804-BottleBrush/2018-08-17-Burns-Bottl...  \n",
       "0   ../dev/1804-BottleBrush/2018-08-17-Burns-Bottl...  \n",
       "10  ../dev/1804-BottleBrush/2018-08-17-Burns-Bottl...  \n",
       "30  ../dev/1804-BottleBrush/2018-08-17-Burns-Bottl...  \n",
       "16  ../dev/1804-BottleBrush/2018-08-17-Burns-Bottl...  "
      ]
     },
     "execution_count": 42,
     "metadata": {},
     "output_type": "execute_result"
    }
   ],
   "source": [
    "#This is hopefully a somewhat generic regex\n",
    "cre = re.compile(regex.value)\n",
    "\n",
    "## get lambda and SDD \n",
    "dfABS =[]\n",
    "for file_name,sdf in dfLabel.iterrows():\n",
    "    file_path = sdf['file_path']\n",
    "    label = sdf['label']\n",
    "    \n",
    "    ABS,config = readABS(file_path)\n",
    "    LAMBDA = float(config['LAMBDA'])\n",
    "    SDD = float(config['DET DIST'])\n",
    "    \n",
    "    ## Parse the LABEL: row\n",
    "    re_result = cre.search(label)\n",
    "    if not re_result: #if regex doesn't match, skip\n",
    "        print('Warning: skipping {} because regex failed!'.format(file_name))\n",
    "        continue\n",
    "    label   = re_result.groups()[0].strip()\n",
    "    \n",
    "    dfABS.append([label,SDD,LAMBDA,file_name,file_path])\n",
    "\n",
    "dfABS = pd.DataFrame(dfABS,columns=['label','SDD','LAM','file_name','file_path'])\n",
    "dfABS = dfABS.sort_values(['label','SDD','LAM'])\n",
    "dfABS.head()"
   ]
  },
  {
   "cell_type": "markdown",
   "metadata": {},
   "source": [
    "## >> Create NSORT Table\n",
    "\n",
    "Now the real magic: Using the power of [Pandas](https://pandas.pydata.org/), we can automatically group the above table by the label column. If the regex was properly constructed, this cell will output a table which lists all of the individual instrument configurations for each sample label."
   ]
  },
  {
   "cell_type": "code",
   "execution_count": 43,
   "metadata": {},
   "outputs": [
    {
     "data": {
      "text/html": [
       "<div>\n",
       "<style scoped>\n",
       "    .dataframe tbody tr th:only-of-type {\n",
       "        vertical-align: middle;\n",
       "    }\n",
       "\n",
       "    .dataframe tbody tr th {\n",
       "        vertical-align: top;\n",
       "    }\n",
       "\n",
       "    .dataframe thead th {\n",
       "        text-align: right;\n",
       "    }\n",
       "</style>\n",
       "<table border=\"1\" class=\"dataframe\">\n",
       "  <thead>\n",
       "    <tr style=\"text-align: right;\">\n",
       "      <th></th>\n",
       "      <th></th>\n",
       "      <th>label</th>\n",
       "      <th>AC5-116-42</th>\n",
       "      <th>AC5-116-CH</th>\n",
       "      <th>AC5-117-42</th>\n",
       "      <th>AC5-117-CH</th>\n",
       "      <th>AC5-118-42</th>\n",
       "    </tr>\n",
       "    <tr>\n",
       "      <th>SDD</th>\n",
       "      <th>LAM</th>\n",
       "      <th>datatype</th>\n",
       "      <th></th>\n",
       "      <th></th>\n",
       "      <th></th>\n",
       "      <th></th>\n",
       "      <th></th>\n",
       "    </tr>\n",
       "  </thead>\n",
       "  <tbody>\n",
       "    <tr>\n",
       "      <th rowspan=\"2\" valign=\"top\">1.15</th>\n",
       "      <th rowspan=\"2\" valign=\"top\">5.0</th>\n",
       "      <th>fname</th>\n",
       "      <td>AUG17056.ABS</td>\n",
       "      <td>AUG17062.ABS</td>\n",
       "      <td>AUG17057.ABS</td>\n",
       "      <td>AUG17063.ABS</td>\n",
       "      <td>AUG17058.ABS</td>\n",
       "    </tr>\n",
       "    <tr>\n",
       "      <th>fpath</th>\n",
       "      <td>../dev/1804-BottleBrush/2018-08-17-Burns-Bottl...</td>\n",
       "      <td>../dev/1804-BottleBrush/2018-08-17-Burns-Bottl...</td>\n",
       "      <td>../dev/1804-BottleBrush/2018-08-17-Burns-Bottl...</td>\n",
       "      <td>../dev/1804-BottleBrush/2018-08-17-Burns-Bottl...</td>\n",
       "      <td>../dev/1804-BottleBrush/2018-08-17-Burns-Bottl...</td>\n",
       "    </tr>\n",
       "    <tr>\n",
       "      <th rowspan=\"6\" valign=\"top\">4.70</th>\n",
       "      <th rowspan=\"2\" valign=\"top\">5.0</th>\n",
       "      <th>fname</th>\n",
       "      <td>AUG17031.ABS</td>\n",
       "      <td>AUG17071.ABS</td>\n",
       "      <td>AUG17032.ABS</td>\n",
       "      <td>AUG17072.ABS</td>\n",
       "      <td>AUG17033.ABS</td>\n",
       "    </tr>\n",
       "    <tr>\n",
       "      <th>fpath</th>\n",
       "      <td>../dev/1804-BottleBrush/2018-08-17-Burns-Bottl...</td>\n",
       "      <td>../dev/1804-BottleBrush/2018-08-17-Burns-Bottl...</td>\n",
       "      <td>../dev/1804-BottleBrush/2018-08-17-Burns-Bottl...</td>\n",
       "      <td>../dev/1804-BottleBrush/2018-08-17-Burns-Bottl...</td>\n",
       "      <td>../dev/1804-BottleBrush/2018-08-17-Burns-Bottl...</td>\n",
       "    </tr>\n",
       "    <tr>\n",
       "      <th rowspan=\"2\" valign=\"top\">10.0</th>\n",
       "      <th>fname</th>\n",
       "      <td>AUG17051.ABS</td>\n",
       "      <td>AUG17080.ABS</td>\n",
       "      <td>AUG17052.ABS</td>\n",
       "      <td>AUG17081.ABS</td>\n",
       "      <td>AUG17053.ABS</td>\n",
       "    </tr>\n",
       "    <tr>\n",
       "      <th>fpath</th>\n",
       "      <td>../dev/1804-BottleBrush/2018-08-17-Burns-Bottl...</td>\n",
       "      <td>../dev/1804-BottleBrush/2018-08-17-Burns-Bottl...</td>\n",
       "      <td>../dev/1804-BottleBrush/2018-08-17-Burns-Bottl...</td>\n",
       "      <td>../dev/1804-BottleBrush/2018-08-17-Burns-Bottl...</td>\n",
       "      <td>../dev/1804-BottleBrush/2018-08-17-Burns-Bottl...</td>\n",
       "    </tr>\n",
       "    <tr>\n",
       "      <th rowspan=\"2\" valign=\"top\">16.0</th>\n",
       "      <th>fname</th>\n",
       "      <td>AUG17036.ABS</td>\n",
       "      <td>NaN</td>\n",
       "      <td>AUG17037.ABS</td>\n",
       "      <td>NaN</td>\n",
       "      <td>AUG17038.ABS</td>\n",
       "    </tr>\n",
       "    <tr>\n",
       "      <th>fpath</th>\n",
       "      <td>../dev/1804-BottleBrush/2018-08-17-Burns-Bottl...</td>\n",
       "      <td>NaN</td>\n",
       "      <td>../dev/1804-BottleBrush/2018-08-17-Burns-Bottl...</td>\n",
       "      <td>NaN</td>\n",
       "      <td>../dev/1804-BottleBrush/2018-08-17-Burns-Bottl...</td>\n",
       "    </tr>\n",
       "  </tbody>\n",
       "</table>\n",
       "</div>"
      ],
      "text/plain": [
       "label                                                      AC5-116-42  \\\n",
       "SDD  LAM  datatype                                                      \n",
       "1.15 5.0  fname                                          AUG17056.ABS   \n",
       "          fpath     ../dev/1804-BottleBrush/2018-08-17-Burns-Bottl...   \n",
       "4.70 5.0  fname                                          AUG17031.ABS   \n",
       "          fpath     ../dev/1804-BottleBrush/2018-08-17-Burns-Bottl...   \n",
       "     10.0 fname                                          AUG17051.ABS   \n",
       "          fpath     ../dev/1804-BottleBrush/2018-08-17-Burns-Bottl...   \n",
       "     16.0 fname                                          AUG17036.ABS   \n",
       "          fpath     ../dev/1804-BottleBrush/2018-08-17-Burns-Bottl...   \n",
       "\n",
       "label                                                      AC5-116-CH  \\\n",
       "SDD  LAM  datatype                                                      \n",
       "1.15 5.0  fname                                          AUG17062.ABS   \n",
       "          fpath     ../dev/1804-BottleBrush/2018-08-17-Burns-Bottl...   \n",
       "4.70 5.0  fname                                          AUG17071.ABS   \n",
       "          fpath     ../dev/1804-BottleBrush/2018-08-17-Burns-Bottl...   \n",
       "     10.0 fname                                          AUG17080.ABS   \n",
       "          fpath     ../dev/1804-BottleBrush/2018-08-17-Burns-Bottl...   \n",
       "     16.0 fname                                                   NaN   \n",
       "          fpath                                                   NaN   \n",
       "\n",
       "label                                                      AC5-117-42  \\\n",
       "SDD  LAM  datatype                                                      \n",
       "1.15 5.0  fname                                          AUG17057.ABS   \n",
       "          fpath     ../dev/1804-BottleBrush/2018-08-17-Burns-Bottl...   \n",
       "4.70 5.0  fname                                          AUG17032.ABS   \n",
       "          fpath     ../dev/1804-BottleBrush/2018-08-17-Burns-Bottl...   \n",
       "     10.0 fname                                          AUG17052.ABS   \n",
       "          fpath     ../dev/1804-BottleBrush/2018-08-17-Burns-Bottl...   \n",
       "     16.0 fname                                          AUG17037.ABS   \n",
       "          fpath     ../dev/1804-BottleBrush/2018-08-17-Burns-Bottl...   \n",
       "\n",
       "label                                                      AC5-117-CH  \\\n",
       "SDD  LAM  datatype                                                      \n",
       "1.15 5.0  fname                                          AUG17063.ABS   \n",
       "          fpath     ../dev/1804-BottleBrush/2018-08-17-Burns-Bottl...   \n",
       "4.70 5.0  fname                                          AUG17072.ABS   \n",
       "          fpath     ../dev/1804-BottleBrush/2018-08-17-Burns-Bottl...   \n",
       "     10.0 fname                                          AUG17081.ABS   \n",
       "          fpath     ../dev/1804-BottleBrush/2018-08-17-Burns-Bottl...   \n",
       "     16.0 fname                                                   NaN   \n",
       "          fpath                                                   NaN   \n",
       "\n",
       "label                                                      AC5-118-42  \n",
       "SDD  LAM  datatype                                                     \n",
       "1.15 5.0  fname                                          AUG17058.ABS  \n",
       "          fpath     ../dev/1804-BottleBrush/2018-08-17-Burns-Bottl...  \n",
       "4.70 5.0  fname                                          AUG17033.ABS  \n",
       "          fpath     ../dev/1804-BottleBrush/2018-08-17-Burns-Bottl...  \n",
       "     10.0 fname                                          AUG17053.ABS  \n",
       "          fpath     ../dev/1804-BottleBrush/2018-08-17-Burns-Bottl...  \n",
       "     16.0 fname                                          AUG17038.ABS  \n",
       "          fpath     ../dev/1804-BottleBrush/2018-08-17-Burns-Bottl...  "
      ]
     },
     "execution_count": 43,
     "metadata": {},
     "output_type": "execute_result"
    }
   ],
   "source": [
    "dfNSORT = []\n",
    "for i, sdf in dfABS.groupby('label'):\n",
    "    dd = {'label':sdf.label.iloc[0]}\n",
    "    for j,ssdf in sdf.iterrows():\n",
    "        dd[ssdf.SDD,ssdf.LAM,'fname'] = ssdf.file_name\n",
    "        dd[ssdf.SDD,ssdf.LAM,'fpath'] = ssdf.file_path\n",
    "    dfNSORT.append(dd)\n",
    "\n",
    "dfNSORT = pd.DataFrame(dfNSORT)\n",
    "dfNSORT.set_index('label',inplace=True)\n",
    "dfNSORT.columns = pd.MultiIndex.from_tuples(dfNSORT.columns.tolist(),names=['SDD','LAM','datatype'])\n",
    "dfNSORT.sort_index(axis=0,inplace=True)\n",
    "dfNSORT.sort_index(axis=1,inplace=True)\n",
    "dfNSORT.head().T"
   ]
  },
  {
   "cell_type": "markdown",
   "metadata": {},
   "source": [
    "## !> Choose Global Trim Params\n",
    "\n",
    "Next, trim and shift parameters need to be chosen to be applied to all trials. Use the widget produced by the cell below to demo trim parameters and shift-factors for different systems. "
   ]
  },
  {
   "cell_type": "code",
   "execution_count": 44,
   "metadata": {},
   "outputs": [
    {
     "data": {
      "application/vnd.jupyter.widget-view+json": {
       "model_id": "ac4dedf94ac54b84b06741a4ccfd707a",
       "version_major": 2,
       "version_minor": 0
      },
      "text/plain": [
       "FigureCanvasNbAgg()"
      ]
     },
     "metadata": {},
     "output_type": "display_data"
    },
    {
     "data": {
      "application/vnd.jupyter.widget-view+json": {
       "model_id": "6f2ecf5772484c259e0bb30342b05489",
       "version_major": 2,
       "version_minor": 0
      },
      "text/plain": [
       "VBox(children=(HBox(children=(Dropdown(description='System:', options=('AC5-116-42', 'AC5-116-CH', 'AC5-117-42…"
      ]
     },
     "metadata": {},
     "output_type": "display_data"
    }
   ],
   "source": [
    "#extra out only full path information\n",
    "dfNSORTPath = dfNSORT.xs('fpath',level='datatype',axis=1)\n",
    "\n",
    "plt.figure(figsize=(6,3))\n",
    "tp = InteractiveTrimmingPlot(dfNSORTPath)\n",
    "tp.run_widget()"
   ]
  },
  {
   "cell_type": "markdown",
   "metadata": {},
   "source": [
    "## >> Check Shift Factors\n",
    "\n",
    "Ensure that the shift factors below make sense for all systems/configurations. Ideally, the factors should be between 0.95-1.05."
   ]
  },
  {
   "cell_type": "code",
   "execution_count": 45,
   "metadata": {},
   "outputs": [
    {
     "data": {
      "text/html": [
       "<div>\n",
       "<style scoped>\n",
       "    .dataframe tbody tr th:only-of-type {\n",
       "        vertical-align: middle;\n",
       "    }\n",
       "\n",
       "    .dataframe tbody tr th {\n",
       "        vertical-align: top;\n",
       "    }\n",
       "\n",
       "    .dataframe thead tr th {\n",
       "        text-align: left;\n",
       "    }\n",
       "\n",
       "    .dataframe thead tr:last-of-type th {\n",
       "        text-align: right;\n",
       "    }\n",
       "</style>\n",
       "<table border=\"1\" class=\"dataframe\">\n",
       "  <thead>\n",
       "    <tr>\n",
       "      <th>SDD</th>\n",
       "      <th>1.15</th>\n",
       "      <th colspan=\"3\" halign=\"left\">4.70</th>\n",
       "    </tr>\n",
       "    <tr>\n",
       "      <th>LAM</th>\n",
       "      <th>5.0</th>\n",
       "      <th>5.0</th>\n",
       "      <th>10.0</th>\n",
       "      <th>16.0</th>\n",
       "    </tr>\n",
       "    <tr>\n",
       "      <th>label</th>\n",
       "      <th></th>\n",
       "      <th></th>\n",
       "      <th></th>\n",
       "      <th></th>\n",
       "    </tr>\n",
       "  </thead>\n",
       "  <tbody>\n",
       "    <tr>\n",
       "      <th>AC5-119-CH</th>\n",
       "      <td>1.0</td>\n",
       "      <td>0.921770</td>\n",
       "      <td>0.925081</td>\n",
       "      <td>NaN</td>\n",
       "    </tr>\n",
       "    <tr>\n",
       "      <th>AC5-123-CH</th>\n",
       "      <td>1.0</td>\n",
       "      <td>0.923192</td>\n",
       "      <td>0.917696</td>\n",
       "      <td>NaN</td>\n",
       "    </tr>\n",
       "    <tr>\n",
       "      <th>AC5-117-42</th>\n",
       "      <td>1.0</td>\n",
       "      <td>0.925983</td>\n",
       "      <td>0.940972</td>\n",
       "      <td>1.041399</td>\n",
       "    </tr>\n",
       "    <tr>\n",
       "      <th>AC5-117-CH</th>\n",
       "      <td>1.0</td>\n",
       "      <td>0.926491</td>\n",
       "      <td>0.915306</td>\n",
       "      <td>NaN</td>\n",
       "    </tr>\n",
       "    <tr>\n",
       "      <th>AC5-118-CH</th>\n",
       "      <td>1.0</td>\n",
       "      <td>0.927178</td>\n",
       "      <td>0.918431</td>\n",
       "      <td>NaN</td>\n",
       "    </tr>\n",
       "    <tr>\n",
       "      <th>AC5-116-CH</th>\n",
       "      <td>1.0</td>\n",
       "      <td>0.927620</td>\n",
       "      <td>0.924044</td>\n",
       "      <td>NaN</td>\n",
       "    </tr>\n",
       "    <tr>\n",
       "      <th>AC5-122-CH</th>\n",
       "      <td>1.0</td>\n",
       "      <td>0.928999</td>\n",
       "      <td>0.937418</td>\n",
       "      <td>NaN</td>\n",
       "    </tr>\n",
       "    <tr>\n",
       "      <th>AC5-116-42</th>\n",
       "      <td>1.0</td>\n",
       "      <td>0.929071</td>\n",
       "      <td>0.940337</td>\n",
       "      <td>1.033693</td>\n",
       "    </tr>\n",
       "    <tr>\n",
       "      <th>AC5-118-42</th>\n",
       "      <td>1.0</td>\n",
       "      <td>0.929268</td>\n",
       "      <td>0.943529</td>\n",
       "      <td>1.045986</td>\n",
       "    </tr>\n",
       "    <tr>\n",
       "      <th>AC5-120-CH</th>\n",
       "      <td>1.0</td>\n",
       "      <td>0.931825</td>\n",
       "      <td>0.920360</td>\n",
       "      <td>NaN</td>\n",
       "    </tr>\n",
       "    <tr>\n",
       "      <th>AC5-119-42</th>\n",
       "      <td>1.0</td>\n",
       "      <td>0.932464</td>\n",
       "      <td>0.942480</td>\n",
       "      <td>1.036194</td>\n",
       "    </tr>\n",
       "    <tr>\n",
       "      <th>AC5-121-CH</th>\n",
       "      <td>1.0</td>\n",
       "      <td>0.933560</td>\n",
       "      <td>0.931878</td>\n",
       "      <td>NaN</td>\n",
       "    </tr>\n",
       "  </tbody>\n",
       "</table>\n",
       "</div>"
      ],
      "text/plain": [
       "SDD        1.15      4.70                    \n",
       "LAM        5.0       5.0       10.0      16.0\n",
       "label                                        \n",
       "AC5-119-CH  1.0  0.921770  0.925081       NaN\n",
       "AC5-123-CH  1.0  0.923192  0.917696       NaN\n",
       "AC5-117-42  1.0  0.925983  0.940972  1.041399\n",
       "AC5-117-CH  1.0  0.926491  0.915306       NaN\n",
       "AC5-118-CH  1.0  0.927178  0.918431       NaN\n",
       "AC5-116-CH  1.0  0.927620  0.924044       NaN\n",
       "AC5-122-CH  1.0  0.928999  0.937418       NaN\n",
       "AC5-116-42  1.0  0.929071  0.940337  1.033693\n",
       "AC5-118-42  1.0  0.929268  0.943529  1.045986\n",
       "AC5-120-CH  1.0  0.931825  0.920360       NaN\n",
       "AC5-119-42  1.0  0.932464  0.942480  1.036194\n",
       "AC5-121-CH  1.0  0.933560  0.931878       NaN"
      ]
     },
     "execution_count": 45,
     "metadata": {},
     "output_type": "execute_result"
    }
   ],
   "source": [
    "df_trim = tp.df_trim\n",
    "shiftConfig = eval(tp.shift_config.value)\n",
    "\n",
    "shifts=[]\n",
    "for label,df in dfNSORTPath.iterrows():\n",
    "    df_xy = []\n",
    "    index = []\n",
    "    for i,(config,fpath) in enumerate(df.iteritems()):\n",
    "        if pd.isna(fpath):\n",
    "            continue\n",
    "        index.append(config)\n",
    "        sdf = readABS(fpath)[0]\n",
    "        df_xy.append(sdf.set_index('q',drop=False)[['q','I','dI']])\n",
    "    df_xy = pd.Series(df_xy,index=pd.MultiIndex.from_tuples(index))\n",
    "    df_xy = df_xy.sort_index(axis=0)\n",
    "    \n",
    "    dfShift = buildShiftTable(df_xy,df_trim,shiftConfig)\n",
    "    shifts.append(dfShift.values)\n",
    "    \n",
    "df_shift = pd.DataFrame(shifts,index=dfNSORTPath.index,columns=dfNSORTPath.columns)\n",
    "df_shift = df_shift.sort_values(by=dfNSORTPath.columns.tolist(),axis=0)\n",
    "df_shift"
   ]
  },
  {
   "cell_type": "markdown",
   "metadata": {},
   "source": [
    "## >> Write all ABS Files"
   ]
  },
  {
   "cell_type": "code",
   "execution_count": 13,
   "metadata": {},
   "outputs": [
    {
     "name": "stdout",
     "output_type": "stream",
     "text": [
      "--> Writing ../dev/1804-BottleBrush/2018-08-17-Burns-Bottlebrushes/BOTTLEBRUSH/RAW/AUTONSORTED/AC5-116-42k dPS.ABS\n",
      "--> Writing ../dev/1804-BottleBrush/2018-08-17-Burns-Bottlebrushes/BOTTLEBRUSH/RAW/AUTONSORTED/AC5-116-CHXd12.ABS\n",
      "--> Writing ../dev/1804-BottleBrush/2018-08-17-Burns-Bottlebrushes/BOTTLEBRUSH/RAW/AUTONSORTED/AC5-117-42k dPS.ABS\n",
      "--> Writing ../dev/1804-BottleBrush/2018-08-17-Burns-Bottlebrushes/BOTTLEBRUSH/RAW/AUTONSORTED/AC5-117-CHXd12.ABS\n",
      "--> Writing ../dev/1804-BottleBrush/2018-08-17-Burns-Bottlebrushes/BOTTLEBRUSH/RAW/AUTONSORTED/AC5-118-42k dPS.ABS\n",
      "--> Writing ../dev/1804-BottleBrush/2018-08-17-Burns-Bottlebrushes/BOTTLEBRUSH/RAW/AUTONSORTED/AC5-118-CHXd12.ABS\n",
      "--> Writing ../dev/1804-BottleBrush/2018-08-17-Burns-Bottlebrushes/BOTTLEBRUSH/RAW/AUTONSORTED/AC5-119-42k dPS.ABS\n",
      "--> Writing ../dev/1804-BottleBrush/2018-08-17-Burns-Bottlebrushes/BOTTLEBRUSH/RAW/AUTONSORTED/AC5-119-CHXd12.ABS\n",
      "--> Writing ../dev/1804-BottleBrush/2018-08-17-Burns-Bottlebrushes/BOTTLEBRUSH/RAW/AUTONSORTED/AC5-120-CHXd12.ABS\n",
      "--> Writing ../dev/1804-BottleBrush/2018-08-17-Burns-Bottlebrushes/BOTTLEBRUSH/RAW/AUTONSORTED/AC5-121-CHXd12.ABS\n",
      "--> Writing ../dev/1804-BottleBrush/2018-08-17-Burns-Bottlebrushes/BOTTLEBRUSH/RAW/AUTONSORTED/AC5-122-CHXd12.ABS\n",
      "--> Writing ../dev/1804-BottleBrush/2018-08-17-Burns-Bottlebrushes/BOTTLEBRUSH/RAW/AUTONSORTED/AC5-123-CHXd12.ABS\n"
     ]
    }
   ],
   "source": [
    "AUTONSORT_path = ABS_path / 'AUTONSORTED'\n",
    "if not AUTONSORT_path.exists():\n",
    "    AUTONSORT_path.mkdir()\n",
    "    \n",
    "for label,sdfABS in dfNSORTPath.iterrows():\n",
    "    sdfShift = df_shift.loc[label]\n",
    "    fname = label.strip() + '.ABS'\n",
    "    print('--> Writing {}'.format(AUTONSORT_path/fname))\n",
    "    writeABS(fname,sdfABS,sdfShift,shiftConfig,df_trim,path=AUTONSORT_path,shift=True)"
   ]
  },
  {
   "cell_type": "markdown",
   "metadata": {},
   "source": [
    "## !> Check AUTO-NSORTED ABS Files"
   ]
  },
  {
   "cell_type": "code",
   "execution_count": 26,
   "metadata": {},
   "outputs": [
    {
     "data": {
      "application/vnd.jupyter.widget-view+json": {
       "model_id": "",
       "version_major": 2,
       "version_minor": 0
      },
      "text/plain": [
       "FigureCanvasNbAgg()"
      ]
     },
     "metadata": {},
     "output_type": "display_data"
    },
    {
     "data": {
      "application/vnd.jupyter.widget-view+json": {
       "model_id": "74781fc3d2f04eb488908b0f87dd744c",
       "version_major": 2,
       "version_minor": 0
      },
      "text/plain": [
       "interactive(children=(Dropdown(description='fname', options=(PosixPath('../dev/1804-BottleBrush/2018-08-17-Bur…"
      ]
     },
     "metadata": {},
     "output_type": "display_data"
    }
   ],
   "source": [
    "AUTO_ABS = list(AUTONSORT_path.glob('*ABS'))\n",
    "\n",
    "def plotABS(fname=AUTO_ABS[0]):\n",
    "    df,config = readABS(fname)\n",
    "    line.set_xdata(df['q'].values)\n",
    "    line.set_ydata(df['I'].values)\n",
    "    ax.relim()\n",
    "    ax.autoscale_view()\n",
    "\n",
    "fig,ax = plt.subplots()\n",
    "line = plt.matplotlib.lines.Line2D([],[])\n",
    "plotABS() \n",
    "ax.add_line(line)\n",
    "ax.set_xscale('log')\n",
    "ax.set_yscale('log')\n",
    "line.set(marker='o',ms=3,ls='-',)\n",
    "ipywidgets.interact(plotABS,fname=AUTO_ABS);"
   ]
  },
  {
   "cell_type": "code",
   "execution_count": null,
   "metadata": {},
   "outputs": [],
   "source": []
  }
 ],
 "metadata": {
  "kernelspec": {
   "display_name": "Python 3",
   "language": "python",
   "name": "python3"
  },
  "language_info": {
   "codemirror_mode": {
    "name": "ipython",
    "version": 3
   },
   "file_extension": ".py",
   "mimetype": "text/x-python",
   "name": "python",
   "nbconvert_exporter": "python",
   "pygments_lexer": "ipython3",
   "version": "3.6.7"
  }
 },
 "nbformat": 4,
 "nbformat_minor": 2
}
