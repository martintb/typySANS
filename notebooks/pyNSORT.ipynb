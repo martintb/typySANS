{
 "cells": [
  {
   "cell_type": "markdown",
   "metadata": {},
   "source": [
    "# NSORT with Python\n",
    "- Author: Tyler Martin \n",
    "- Contact: tyler.martin@nist.gov\n",
    "- Last updated: 03/18/19\n",
    "- Version: 0.3-dev\n",
    "\n",
    "The goal of this notebook is to allow users to interactively stitch together **reduced** ABS files produced from the NCNR Igor macros. It should be highlighted that this file only does the NSORT portion of the reduction process i.e. the combining of reduced scattering data from multiple configurations into a single curve. \n",
    "\n",
    "This notebook works by comparing the trial/sample portion of the trial label and combining those measurements together. For example, if you had the following sets of measurement labels\n",
    "\n",
    "- AC5-116 1p15m 5A Offset Scatt\n",
    "- AC5-116 4p7m 5A Scatt\n",
    "- AC5-116 4p7m 12A Scatt\n",
    "- AC5-117 1p15m 5A Offset Scatt\n",
    "- AC5-117 4p7m 5A Scatt\n",
    "- AC5-117 4p7m 12A Scatt\n",
    "\n",
    "..your goal would be to construct a regular-expression (regex) to extract the \"AC5-11x\" portion of the measurement labels so that the first three and last three measurements could be combined into a single curve. \n",
    "\n",
    "## Global Instructions\n",
    "\n",
    "- This notebook should be worked through linearly from top to bottom\n",
    "- All cells can be run by using the 'play' symbol in the toolbar or by pressing [Shift] + [Enter] simultaneously\n",
    "- Sections headers denote user interaction\n",
    "    - !> cells in this section require interaction/modification by user\n",
    "    - \\>\\> cell in this section should just be run and output checked\n"
   ]
  },
  {
   "cell_type": "markdown",
   "metadata": {},
   "source": [
    "## >> Setting up environment\n",
    "\n",
    "The next several cells may take up to a minute or two to finish running."
   ]
  },
  {
   "cell_type": "code",
   "execution_count": 1,
   "metadata": {},
   "outputs": [],
   "source": [
    "import numpy as np\n",
    "import pandas as pd\n",
    "import matplotlib.pyplot as plt\n",
    "import ipywidgets\n",
    "import pathlib\n",
    "import re\n",
    "import time"
   ]
  },
  {
   "cell_type": "markdown",
   "metadata": {},
   "source": [
    "The next cell is non-essential and can be skipped if it fails (i.e. if Seaborn is not installed) "
   ]
  },
  {
   "cell_type": "code",
   "execution_count": 2,
   "metadata": {},
   "outputs": [],
   "source": [
    "#if this fails, change widget --> notebook\n",
    "import seaborn as sns\n",
    "sns.set(context='notebook',style='ticks',palette='bright')"
   ]
  },
  {
   "cell_type": "markdown",
   "metadata": {},
   "source": [
    "If the next cell fails either\n",
    "    \n",
    "    a) Install ipympl via conda or pip (conda install -c conda-forge ipympl)\n",
    "    \n",
    "    b) Change widget --> notebook"
   ]
  },
  {
   "cell_type": "code",
   "execution_count": 3,
   "metadata": {},
   "outputs": [],
   "source": [
    "%matplotlib widget "
   ]
  },
  {
   "cell_type": "code",
   "execution_count": 4,
   "metadata": {},
   "outputs": [],
   "source": [
    "%load_ext autoreload\n",
    "%autoreload 2"
   ]
  },
  {
   "cell_type": "code",
   "execution_count": 5,
   "metadata": {},
   "outputs": [],
   "source": [
    "#hack in the typySANS directory to the PYTHONPATH (for now)\n",
    "import sys\n",
    "sys.path.insert(0,'../')\n",
    "import typySANS"
   ]
  },
  {
   "cell_type": "markdown",
   "metadata": {},
   "source": [
    "## !> Pick path to .ABS files\n",
    "\n",
    "The title says it! Write in the path to your reduced ABS files. Use [Tab] to autocomplete the paths as you type them"
   ]
  },
  {
   "cell_type": "code",
   "execution_count": 12,
   "metadata": {},
   "outputs": [],
   "source": [
    "ABS_path = pathlib.Path('../dev/1804-BottleBrush/2018-11-08 NGBSANS83 - solvents/reduction')\n",
    "ABS_path = pathlib.Path('membranes/')\n",
    "# ABS_path = pathlib.Path('membrane_solutions/')"
   ]
  },
  {
   "cell_type": "markdown",
   "metadata": {},
   "source": [
    "## >> Scan the .ABS files and build label table"
   ]
  },
  {
   "cell_type": "code",
   "execution_count": 13,
   "metadata": {},
   "outputs": [
    {
     "data": {
      "text/html": [
       "<div>\n",
       "<style scoped>\n",
       "    .dataframe tbody tr th:only-of-type {\n",
       "        vertical-align: middle;\n",
       "    }\n",
       "\n",
       "    .dataframe tbody tr th {\n",
       "        vertical-align: top;\n",
       "    }\n",
       "\n",
       "    .dataframe thead th {\n",
       "        text-align: right;\n",
       "    }\n",
       "</style>\n",
       "<table border=\"1\" class=\"dataframe\">\n",
       "  <thead>\n",
       "    <tr style=\"text-align: right;\">\n",
       "      <th></th>\n",
       "      <th>file_path</th>\n",
       "      <th>label</th>\n",
       "    </tr>\n",
       "    <tr>\n",
       "      <th>file_name</th>\n",
       "      <th></th>\n",
       "      <th></th>\n",
       "    </tr>\n",
       "  </thead>\n",
       "  <tbody>\n",
       "    <tr>\n",
       "      <th>MAR19305.ABS</th>\n",
       "      <td>membranes/MAR19305.ABS</td>\n",
       "      <td>Dow 07002 80 D2O 1p15m 5A Offset Scatt  T=30C</td>\n",
       "    </tr>\n",
       "    <tr>\n",
       "      <th>MAR19311.ABS</th>\n",
       "      <td>membranes/MAR19311.ABS</td>\n",
       "      <td>Dow 08003 60 D2O 1p15m 5A Offset Scatt  T=30C</td>\n",
       "    </tr>\n",
       "    <tr>\n",
       "      <th>MAR19107.ABS</th>\n",
       "      <td>membranes/MAR19107.ABS</td>\n",
       "      <td>Dow 06004 Dry 4p7m 5A Scatt T=30C</td>\n",
       "    </tr>\n",
       "    <tr>\n",
       "      <th>MAR19113.ABS</th>\n",
       "      <td>membranes/MAR19113.ABS</td>\n",
       "      <td>Dow 08005 Dry 4p7m 5A Scatt T=30C</td>\n",
       "    </tr>\n",
       "    <tr>\n",
       "      <th>MAR19098.ABS</th>\n",
       "      <td>membranes/MAR19098.ABS</td>\n",
       "      <td>Dow 07004 Dry 1p15m 5A Offset Scatt  T=30C</td>\n",
       "    </tr>\n",
       "  </tbody>\n",
       "</table>\n",
       "</div>"
      ],
      "text/plain": [
       "                           file_path  \\\n",
       "file_name                              \n",
       "MAR19305.ABS  membranes/MAR19305.ABS   \n",
       "MAR19311.ABS  membranes/MAR19311.ABS   \n",
       "MAR19107.ABS  membranes/MAR19107.ABS   \n",
       "MAR19113.ABS  membranes/MAR19113.ABS   \n",
       "MAR19098.ABS  membranes/MAR19098.ABS   \n",
       "\n",
       "                                                      label  \n",
       "file_name                                                    \n",
       "MAR19305.ABS  Dow 07002 80 D2O 1p15m 5A Offset Scatt  T=30C  \n",
       "MAR19311.ABS  Dow 08003 60 D2O 1p15m 5A Offset Scatt  T=30C  \n",
       "MAR19107.ABS              Dow 06004 Dry 4p7m 5A Scatt T=30C  \n",
       "MAR19113.ABS              Dow 08005 Dry 4p7m 5A Scatt T=30C  \n",
       "MAR19098.ABS     Dow 07004 Dry 1p15m 5A Offset Scatt  T=30C  "
      ]
     },
     "execution_count": 13,
     "metadata": {},
     "output_type": "execute_result"
    }
   ],
   "source": [
    "dfLabel =[]\n",
    "for file_path in ABS_path.glob('*ABS'):\n",
    "    file_name = file_path.parts[-1]\n",
    "    \n",
    "    with open(file_path,'r') as f:\n",
    "        lines = [f.readline() for _ in range(4)]\n",
    "        \n",
    "    ## We don't want COMBINED ABS files\n",
    "    if 'COMBINED' in lines[0]:\n",
    "        continue\n",
    "        \n",
    "    ## Parse the LABEL: row\n",
    "    raw_label = lines[1].strip().split(':')[-1].strip()\n",
    "    dfLabel.append([file_name,file_path,raw_label])\n",
    "\n",
    "dfLabel = pd.DataFrame(dfLabel,columns=['file_name','file_path','label'])\n",
    "dfLabel = dfLabel.set_index('file_name').squeeze()\n",
    "dfLabel.head()"
   ]
  },
  {
   "cell_type": "markdown",
   "metadata": {},
   "source": [
    "## !> Build regex to extract trial label\n",
    "\n",
    "The goal here is to construct a 'regular expression' (i.e. a regex) that will extract the **non-configuration** portion of the trial label. This entire notebook works by finding the portion of the label that is common between the different instrument configurations and combining them. The key is to precisely construct this regex so that the correct measurements will be combined together. \n",
    "\n",
    "Some general regex  notes:\n",
    "- A period \".\" represents any alphanumeric character\n",
    "- A star \"\\*\" denotes that the **previous** character can be repeated any number of times (including zero times)\n",
    "- A question mark \"?\" denotes that the **previous** character occurs either 0 or 1 times\n",
    "- Parenthesis () denote 'caputure' groups. These is how we extract substrings\n",
    "- Brackets [] denote character lists i.e. [mA] is a single character equal to m **or** A"
   ]
  },
  {
   "cell_type": "markdown",
   "metadata": {},
   "source": [
    "Example 1:\n",
    "\n",
    "    Consider the following set of measurement labels\n",
    "    \n",
    "    - AC5-116 1p15m 5A Offset Scatt\n",
    "    - AC5-116 4p7m 5A Scatt\n",
    "    - AC5-116 4p7m 12A Scatt\n",
    "    - AC5-117 1p15m 5A Offset Scatt\n",
    "    - AC5-117 4p7m 5A Scatt\n",
    "    - AC5-117 4p7m 12A Scatt\n",
    "    \n",
    "    ..your goal would be to construct a regular-expression (regex) to extract the \"AC5-11x\" portion of the measurement labels so that the first three and last three measurements could be combined into a single curve. The following regular expressions would work in this case:\n",
    "    \n",
    "    - (AC5.*)\\s\n",
    "    - (.*)\\s\n",
    "    - ([0-9a-zA-Z-]\\*)\n",
    "    - (.{7})\\s\n",
    "    \n",
    "Example 2:\n",
    "\n",
    "    - Full Sample Label: AC5-116-42k dPS 4p7m 5A Scatt T=25\n",
    "    - Regex: (.*) dPS \n",
    "        - Explanation: Capture 0 or more characters which precede the characters dPS\n",
    "    - Captured Groups: (' AC5-116-42k')\n",
    "\n",
    "\n",
    "**Note**: This code will always use the *first* capture group as the trial label"
   ]
  },
  {
   "cell_type": "code",
   "execution_count": 14,
   "metadata": {},
   "outputs": [
    {
     "data": {
      "application/vnd.jupyter.widget-view+json": {
       "model_id": "c719de8595414f65ac5d63c9db4778ea",
       "version_major": 2,
       "version_minor": 0
      },
      "text/plain": [
       "VBox(children=(Dropdown(description='Label:', layout=Layout(width='450px'), options=('Dow 07002 80 D2O 1p15m 5…"
      ]
     },
     "metadata": {},
     "output_type": "display_data"
    }
   ],
   "source": [
    "# this is a general regex that works well for many samples coming off of the 10m\n",
    "# regex_init = '(.*)\\s*(.*)[mA]\\s*(.*)[mA]'\n",
    "regex_init = '(.*)\\s*(.*)[mA]\\s*(.*)[mA]'\n",
    "regex_init = '(.*)\\s[0-9]p'\n",
    "\n",
    "regex_label = ipywidgets.Dropdown(options=dfLabel['label'].values,description='Label:',layout={'width':'450px'})\n",
    "regex = ipywidgets.Text(value=regex_init,description='Regex:',layout={'width':'600px'})\n",
    "regex_output = ipywidgets.Output()\n",
    "\n",
    "def match(event):\n",
    "    regex_output.clear_output()\n",
    "    with regex_output:\n",
    "        try:\n",
    "            re_result = re.search(regex.value,regex_label.value)\n",
    "        except re.error:\n",
    "            print('Error! Bad regular-expression!')\n",
    "        else:\n",
    "            if re_result is None:\n",
    "                print('Error! No match!')\n",
    "            else:\n",
    "                groups = re_result.groups()\n",
    "                print('\\n')\n",
    "                print('All Groups: {}'.format(groups))\n",
    "                print()\n",
    "                print('Extracted Trial Label: {}'.format(groups[0]))\n",
    "\n",
    "regex_label.observe(match)\n",
    "regex.observe(match)\n",
    "match(None)\n",
    "display(ipywidgets.VBox([regex_label,regex,regex_output]))"
   ]
  },
  {
   "cell_type": "markdown",
   "metadata": {},
   "source": [
    "## >> Gather trial labels and configuration information\n",
    "\n",
    "If you created a correct regex for *all* trials above, this cell should correctly produce a table with the extracted trial label along with the sample to detector distance (SDD) and wavelength (LAM) as well."
   ]
  },
  {
   "cell_type": "code",
   "execution_count": 15,
   "metadata": {},
   "outputs": [
    {
     "data": {
      "text/html": [
       "<div>\n",
       "<style scoped>\n",
       "    .dataframe tbody tr th:only-of-type {\n",
       "        vertical-align: middle;\n",
       "    }\n",
       "\n",
       "    .dataframe tbody tr th {\n",
       "        vertical-align: top;\n",
       "    }\n",
       "\n",
       "    .dataframe thead th {\n",
       "        text-align: right;\n",
       "    }\n",
       "</style>\n",
       "<table border=\"1\" class=\"dataframe\">\n",
       "  <thead>\n",
       "    <tr style=\"text-align: right;\">\n",
       "      <th></th>\n",
       "      <th>label</th>\n",
       "      <th>SDD</th>\n",
       "      <th>LAM</th>\n",
       "      <th>file_name</th>\n",
       "      <th>file_path</th>\n",
       "    </tr>\n",
       "  </thead>\n",
       "  <tbody>\n",
       "    <tr>\n",
       "      <th>36</th>\n",
       "      <td>Dow 06001 100 D2O</td>\n",
       "      <td>1.15</td>\n",
       "      <td>5.0</td>\n",
       "      <td>MAR19300.ABS</td>\n",
       "      <td>membranes/MAR19300.ABS</td>\n",
       "    </tr>\n",
       "    <tr>\n",
       "      <th>103</th>\n",
       "      <td>Dow 06001 100 D2O</td>\n",
       "      <td>4.75</td>\n",
       "      <td>5.0</td>\n",
       "      <td>MAR19290.ABS</td>\n",
       "      <td>membranes/MAR19290.ABS</td>\n",
       "    </tr>\n",
       "    <tr>\n",
       "      <th>42</th>\n",
       "      <td>Dow 06001 100 D2O</td>\n",
       "      <td>4.75</td>\n",
       "      <td>12.0</td>\n",
       "      <td>MAR19260.ABS</td>\n",
       "      <td>membranes/MAR19260.ABS</td>\n",
       "    </tr>\n",
       "    <tr>\n",
       "      <th>135</th>\n",
       "      <td>Dow 06001 100 D2O</td>\n",
       "      <td>4.75</td>\n",
       "      <td>16.0</td>\n",
       "      <td>MAR19240.ABS</td>\n",
       "      <td>membranes/MAR19240.ABS</td>\n",
       "    </tr>\n",
       "    <tr>\n",
       "      <th>84</th>\n",
       "      <td>Dow 06001 Dry</td>\n",
       "      <td>1.15</td>\n",
       "      <td>5.0</td>\n",
       "      <td>MAR19085.ABS</td>\n",
       "      <td>membranes/MAR19085.ABS</td>\n",
       "    </tr>\n",
       "  </tbody>\n",
       "</table>\n",
       "</div>"
      ],
      "text/plain": [
       "                 label   SDD   LAM     file_name               file_path\n",
       "36   Dow 06001 100 D2O  1.15   5.0  MAR19300.ABS  membranes/MAR19300.ABS\n",
       "103  Dow 06001 100 D2O  4.75   5.0  MAR19290.ABS  membranes/MAR19290.ABS\n",
       "42   Dow 06001 100 D2O  4.75  12.0  MAR19260.ABS  membranes/MAR19260.ABS\n",
       "135  Dow 06001 100 D2O  4.75  16.0  MAR19240.ABS  membranes/MAR19240.ABS\n",
       "84       Dow 06001 Dry  1.15   5.0  MAR19085.ABS  membranes/MAR19085.ABS"
      ]
     },
     "execution_count": 15,
     "metadata": {},
     "output_type": "execute_result"
    }
   ],
   "source": [
    "#This is hopefully a somewhat generic regex\n",
    "cre = re.compile(regex.value)\n",
    "\n",
    "## get lambda and SDD \n",
    "dfABS =[]\n",
    "for file_name,sdf in dfLabel.iterrows():\n",
    "    file_path = sdf['file_path']\n",
    "    label = sdf['label']\n",
    "    \n",
    "    ABS,config = typySANS.readABS(file_path)\n",
    "    LAMBDA = float(config['LAMBDA'])\n",
    "    SDD = float(config['DET DIST'])\n",
    "    \n",
    "    ## Parse the LABEL: row\n",
    "    re_result = cre.search(label)\n",
    "    if not re_result: #if regex doesn't match, skip\n",
    "        print('Warning: skipping {} because regex failed!'.format(file_name))\n",
    "        continue\n",
    "    label   = re_result.groups()[0].strip()\n",
    "    \n",
    "    dfABS.append([label,SDD,LAMBDA,file_name,file_path])\n",
    "\n",
    "dfABS = pd.DataFrame(dfABS,columns=['label','SDD','LAM','file_name','file_path'])\n",
    "dfABS = dfABS.sort_values(['label','SDD','LAM'])\n",
    "dfABS.head()"
   ]
  },
  {
   "cell_type": "markdown",
   "metadata": {},
   "source": [
    "## >> Create NSORT Table\n",
    "\n",
    "Now the real magic: Using the power of [Pandas](https://pandas.pydata.org/), we can automatically group the above table by the label column. If the regex was properly constructed, this cell will output a table which lists all of the individual instrument configurations for each sample label."
   ]
  },
  {
   "cell_type": "code",
   "execution_count": 16,
   "metadata": {},
   "outputs": [
    {
     "data": {
      "text/html": [
       "<div>\n",
       "<style scoped>\n",
       "    .dataframe tbody tr th:only-of-type {\n",
       "        vertical-align: middle;\n",
       "    }\n",
       "\n",
       "    .dataframe tbody tr th {\n",
       "        vertical-align: top;\n",
       "    }\n",
       "\n",
       "    .dataframe thead th {\n",
       "        text-align: right;\n",
       "    }\n",
       "</style>\n",
       "<table border=\"1\" class=\"dataframe\">\n",
       "  <thead>\n",
       "    <tr style=\"text-align: right;\">\n",
       "      <th></th>\n",
       "      <th></th>\n",
       "      <th>label</th>\n",
       "      <th>Dow 10003 Dry</th>\n",
       "      <th>Dow 10004 00 D2O</th>\n",
       "      <th>Dow 10004 Dry</th>\n",
       "      <th>Dow 10005 15 D2O</th>\n",
       "      <th>Dow 10005 Dry</th>\n",
       "    </tr>\n",
       "    <tr>\n",
       "      <th>SDD</th>\n",
       "      <th>LAM</th>\n",
       "      <th>datatype</th>\n",
       "      <th></th>\n",
       "      <th></th>\n",
       "      <th></th>\n",
       "      <th></th>\n",
       "      <th></th>\n",
       "    </tr>\n",
       "  </thead>\n",
       "  <tbody>\n",
       "    <tr>\n",
       "      <th rowspan=\"2\" valign=\"top\">1.15</th>\n",
       "      <th rowspan=\"2\" valign=\"top\">5.0</th>\n",
       "      <th>fname</th>\n",
       "      <td>MAR19096.ABS</td>\n",
       "      <td>MAR19315.ABS</td>\n",
       "      <td>MAR19100.ABS</td>\n",
       "      <td>MAR19409.ABS</td>\n",
       "      <td>MAR19104.ABS</td>\n",
       "    </tr>\n",
       "    <tr>\n",
       "      <th>fpath</th>\n",
       "      <td>membranes/MAR19096.ABS</td>\n",
       "      <td>membranes/MAR19315.ABS</td>\n",
       "      <td>membranes/MAR19100.ABS</td>\n",
       "      <td>membranes/MAR19409.ABS</td>\n",
       "      <td>membranes/MAR19104.ABS</td>\n",
       "    </tr>\n",
       "    <tr>\n",
       "      <th rowspan=\"6\" valign=\"top\">4.75</th>\n",
       "      <th rowspan=\"2\" valign=\"top\">5.0</th>\n",
       "      <th>fname</th>\n",
       "      <td>MAR19106.ABS</td>\n",
       "      <td>MAR19327.ABS</td>\n",
       "      <td>MAR19110.ABS</td>\n",
       "      <td>MAR19401.ABS</td>\n",
       "      <td>MAR19114.ABS</td>\n",
       "    </tr>\n",
       "    <tr>\n",
       "      <th>fpath</th>\n",
       "      <td>membranes/MAR19106.ABS</td>\n",
       "      <td>membranes/MAR19327.ABS</td>\n",
       "      <td>membranes/MAR19110.ABS</td>\n",
       "      <td>membranes/MAR19401.ABS</td>\n",
       "      <td>membranes/MAR19114.ABS</td>\n",
       "    </tr>\n",
       "    <tr>\n",
       "      <th rowspan=\"2\" valign=\"top\">12.0</th>\n",
       "      <th>fname</th>\n",
       "      <td>NaN</td>\n",
       "      <td>MAR19333.ABS</td>\n",
       "      <td>NaN</td>\n",
       "      <td>MAR19397.ABS</td>\n",
       "      <td>NaN</td>\n",
       "    </tr>\n",
       "    <tr>\n",
       "      <th>fpath</th>\n",
       "      <td>NaN</td>\n",
       "      <td>membranes/MAR19333.ABS</td>\n",
       "      <td>NaN</td>\n",
       "      <td>membranes/MAR19397.ABS</td>\n",
       "      <td>NaN</td>\n",
       "    </tr>\n",
       "    <tr>\n",
       "      <th rowspan=\"2\" valign=\"top\">16.0</th>\n",
       "      <th>fname</th>\n",
       "      <td>MAR19136.ABS</td>\n",
       "      <td>MAR19351.ABS</td>\n",
       "      <td>MAR19140.ABS</td>\n",
       "      <td>MAR19385.ABS</td>\n",
       "      <td>MAR19144.ABS</td>\n",
       "    </tr>\n",
       "    <tr>\n",
       "      <th>fpath</th>\n",
       "      <td>membranes/MAR19136.ABS</td>\n",
       "      <td>membranes/MAR19351.ABS</td>\n",
       "      <td>membranes/MAR19140.ABS</td>\n",
       "      <td>membranes/MAR19385.ABS</td>\n",
       "      <td>membranes/MAR19144.ABS</td>\n",
       "    </tr>\n",
       "  </tbody>\n",
       "</table>\n",
       "</div>"
      ],
      "text/plain": [
       "label                        Dow 10003 Dry        Dow 10004 00 D2O  \\\n",
       "SDD  LAM  datatype                                                   \n",
       "1.15 5.0  fname               MAR19096.ABS            MAR19315.ABS   \n",
       "          fpath     membranes/MAR19096.ABS  membranes/MAR19315.ABS   \n",
       "4.75 5.0  fname               MAR19106.ABS            MAR19327.ABS   \n",
       "          fpath     membranes/MAR19106.ABS  membranes/MAR19327.ABS   \n",
       "     12.0 fname                        NaN            MAR19333.ABS   \n",
       "          fpath                        NaN  membranes/MAR19333.ABS   \n",
       "     16.0 fname               MAR19136.ABS            MAR19351.ABS   \n",
       "          fpath     membranes/MAR19136.ABS  membranes/MAR19351.ABS   \n",
       "\n",
       "label                        Dow 10004 Dry        Dow 10005 15 D2O  \\\n",
       "SDD  LAM  datatype                                                   \n",
       "1.15 5.0  fname               MAR19100.ABS            MAR19409.ABS   \n",
       "          fpath     membranes/MAR19100.ABS  membranes/MAR19409.ABS   \n",
       "4.75 5.0  fname               MAR19110.ABS            MAR19401.ABS   \n",
       "          fpath     membranes/MAR19110.ABS  membranes/MAR19401.ABS   \n",
       "     12.0 fname                        NaN            MAR19397.ABS   \n",
       "          fpath                        NaN  membranes/MAR19397.ABS   \n",
       "     16.0 fname               MAR19140.ABS            MAR19385.ABS   \n",
       "          fpath     membranes/MAR19140.ABS  membranes/MAR19385.ABS   \n",
       "\n",
       "label                        Dow 10005 Dry  \n",
       "SDD  LAM  datatype                          \n",
       "1.15 5.0  fname               MAR19104.ABS  \n",
       "          fpath     membranes/MAR19104.ABS  \n",
       "4.75 5.0  fname               MAR19114.ABS  \n",
       "          fpath     membranes/MAR19114.ABS  \n",
       "     12.0 fname                        NaN  \n",
       "          fpath                        NaN  \n",
       "     16.0 fname               MAR19144.ABS  \n",
       "          fpath     membranes/MAR19144.ABS  "
      ]
     },
     "execution_count": 16,
     "metadata": {},
     "output_type": "execute_result"
    }
   ],
   "source": [
    "dfNSORT = []\n",
    "for i, sdf in dfABS.groupby('label'):\n",
    "    dd = {'label':sdf.label.iloc[0]}\n",
    "    for j,ssdf in sdf.iterrows():\n",
    "        dd[ssdf.SDD,ssdf.LAM,'fname'] = ssdf.file_name\n",
    "        dd[ssdf.SDD,ssdf.LAM,'fpath'] = ssdf.file_path\n",
    "    dfNSORT.append(dd)\n",
    "\n",
    "dfNSORT = pd.DataFrame(dfNSORT)\n",
    "dfNSORT.set_index('label',inplace=True)\n",
    "dfNSORT.columns = pd.MultiIndex.from_tuples(dfNSORT.columns.tolist(),names=['SDD','LAM','datatype'])\n",
    "dfNSORT.sort_index(axis=0,inplace=True)\n",
    "dfNSORT.sort_index(axis=1,inplace=True)\n",
    "dfNSORT.tail().T"
   ]
  },
  {
   "cell_type": "markdown",
   "metadata": {},
   "source": [
    "## !> Choose Global Trim Params\n",
    "\n",
    "Next, trim and shift parameters need to be chosen to be applied to all trials. Use the widget produced by the cell below to demo trim parameters and shift-factors for different systems. "
   ]
  },
  {
   "cell_type": "code",
   "execution_count": 17,
   "metadata": {},
   "outputs": [
    {
     "data": {
      "application/vnd.jupyter.widget-view+json": {
       "model_id": "721917c5e1a848dca4038e01396d9f6a",
       "version_major": 2,
       "version_minor": 0
      },
      "text/plain": [
       "FigureCanvasNbAgg()"
      ]
     },
     "metadata": {},
     "output_type": "display_data"
    },
    {
     "data": {
      "application/vnd.jupyter.widget-view+json": {
       "model_id": "43d4bf5a535f42b58283078c71777b40",
       "version_major": 2,
       "version_minor": 0
      },
      "text/plain": [
       "VBox(children=(HBox(children=(Dropdown(description='System:', options=('Dow 06001 100 D2O', 'Dow 06001 Dry', '…"
      ]
     },
     "metadata": {},
     "output_type": "display_data"
    }
   ],
   "source": [
    "#extra out only full path information\n",
    "dfNSORTPath = dfNSORT.xs('fpath',level='datatype',axis=1)\n",
    "\n",
    "plt.figure(figsize=(6,3))\n",
    "tp =  typySANS.TrimPlot(dfNSORTPath)\n",
    "tp.run_widget()"
   ]
  },
  {
   "cell_type": "markdown",
   "metadata": {},
   "source": [
    "## >> Check Shift Factors\n",
    "\n",
    "Ensure that the shift factors below make sense for all systems/configurations. Ideally, the factors should be between 0.95-1.05."
   ]
  },
  {
   "cell_type": "code",
   "execution_count": 98,
   "metadata": {},
   "outputs": [
    {
     "data": {
      "text/html": [
       "<div>\n",
       "<style scoped>\n",
       "    .dataframe tbody tr th:only-of-type {\n",
       "        vertical-align: middle;\n",
       "    }\n",
       "\n",
       "    .dataframe tbody tr th {\n",
       "        vertical-align: top;\n",
       "    }\n",
       "\n",
       "    .dataframe thead tr th {\n",
       "        text-align: left;\n",
       "    }\n",
       "</style>\n",
       "<table border=\"1\" class=\"dataframe\">\n",
       "  <thead>\n",
       "    <tr>\n",
       "      <th></th>\n",
       "      <th>1.15</th>\n",
       "      <th colspan=\"2\" halign=\"left\">4.75</th>\n",
       "    </tr>\n",
       "    <tr>\n",
       "      <th></th>\n",
       "      <th>5.0</th>\n",
       "      <th>5.0</th>\n",
       "      <th>16.0</th>\n",
       "    </tr>\n",
       "  </thead>\n",
       "  <tbody>\n",
       "    <tr>\n",
       "      <th>Dow 07 D2O Soln 10CB</th>\n",
       "      <td>1.0</td>\n",
       "      <td>1.0</td>\n",
       "      <td>1.0</td>\n",
       "    </tr>\n",
       "    <tr>\n",
       "      <th>Dow 07 D2O Soln 6ROT</th>\n",
       "      <td>1.0</td>\n",
       "      <td>1.0</td>\n",
       "      <td>1.0</td>\n",
       "    </tr>\n",
       "    <tr>\n",
       "      <th>Dow 07 dTHF Soln 10CB</th>\n",
       "      <td>1.0</td>\n",
       "      <td>1.0</td>\n",
       "      <td>1.0</td>\n",
       "    </tr>\n",
       "    <tr>\n",
       "      <th>Dow 07 dTHF Soln 6ROT</th>\n",
       "      <td>1.0</td>\n",
       "      <td>1.0</td>\n",
       "      <td>1.0</td>\n",
       "    </tr>\n",
       "    <tr>\n",
       "      <th>Dow 08 D2O Soln 10CB</th>\n",
       "      <td>1.0</td>\n",
       "      <td>1.0</td>\n",
       "      <td>1.0</td>\n",
       "    </tr>\n",
       "    <tr>\n",
       "      <th>Dow 08 D2O Soln 6ROT</th>\n",
       "      <td>1.0</td>\n",
       "      <td>1.0</td>\n",
       "      <td>1.0</td>\n",
       "    </tr>\n",
       "    <tr>\n",
       "      <th>Dow 08 dTHF Soln 10CB</th>\n",
       "      <td>1.0</td>\n",
       "      <td>1.0</td>\n",
       "      <td>1.0</td>\n",
       "    </tr>\n",
       "    <tr>\n",
       "      <th>Dow 08 dTHF Soln 6ROT</th>\n",
       "      <td>1.0</td>\n",
       "      <td>1.0</td>\n",
       "      <td>1.0</td>\n",
       "    </tr>\n",
       "    <tr>\n",
       "      <th>SWC 04 D2O Soln 10CB</th>\n",
       "      <td>1.0</td>\n",
       "      <td>1.0</td>\n",
       "      <td>1.0</td>\n",
       "    </tr>\n",
       "    <tr>\n",
       "      <th>SWC 04 D2O Soln 6ROT</th>\n",
       "      <td>1.0</td>\n",
       "      <td>1.0</td>\n",
       "      <td>1.0</td>\n",
       "    </tr>\n",
       "    <tr>\n",
       "      <th>SWC 04 dTHF Soln 10CB</th>\n",
       "      <td>1.0</td>\n",
       "      <td>1.0</td>\n",
       "      <td>1.0</td>\n",
       "    </tr>\n",
       "    <tr>\n",
       "      <th>SWC 04 dTHF Soln 6ROT</th>\n",
       "      <td>1.0</td>\n",
       "      <td>1.0</td>\n",
       "      <td>1.0</td>\n",
       "    </tr>\n",
       "  </tbody>\n",
       "</table>\n",
       "</div>"
      ],
      "text/plain": [
       "                      1.15 4.75     \n",
       "                      5.0  5.0  16.0\n",
       "Dow 07 D2O Soln 10CB   1.0  1.0  1.0\n",
       "Dow 07 D2O Soln 6ROT   1.0  1.0  1.0\n",
       "Dow 07 dTHF Soln 10CB  1.0  1.0  1.0\n",
       "Dow 07 dTHF Soln 6ROT  1.0  1.0  1.0\n",
       "Dow 08 D2O Soln 10CB   1.0  1.0  1.0\n",
       "Dow 08 D2O Soln 6ROT   1.0  1.0  1.0\n",
       "Dow 08 dTHF Soln 10CB  1.0  1.0  1.0\n",
       "Dow 08 dTHF Soln 6ROT  1.0  1.0  1.0\n",
       "SWC 04 D2O Soln 10CB   1.0  1.0  1.0\n",
       "SWC 04 D2O Soln 6ROT   1.0  1.0  1.0\n",
       "SWC 04 dTHF Soln 10CB  1.0  1.0  1.0\n",
       "SWC 04 dTHF Soln 6ROT  1.0  1.0  1.0"
      ]
     },
     "execution_count": 98,
     "metadata": {},
     "output_type": "execute_result"
    }
   ],
   "source": [
    "df_trim = tp.df_trim\n",
    "shiftConfig = eval(tp.shift_config.value)\n",
    "\n",
    "shifts=[]\n",
    "for label,df in dfNSORTPath.iterrows():\n",
    "    df_xy = []\n",
    "    index = []\n",
    "    for i,(config,fpath) in enumerate(df.iteritems()):\n",
    "        if pd.isna(fpath):\n",
    "            continue\n",
    "        index.append(config)\n",
    "        sdf = typySANS.readABS(fpath)[0]\n",
    "        df_xy.append(sdf.set_index('q',drop=False)[['q','I','dI']])\n",
    "    df_xy = pd.Series(df_xy,index=pd.MultiIndex.from_tuples(index))\n",
    "    df_xy = df_xy.sort_index(axis=0)\n",
    "    \n",
    "    dfShift = typySANS.buildShiftTable(df_xy,df_trim,shiftConfig)\n",
    "    dfShift.name = label\n",
    "    # shifts.append(dfShift.values)\n",
    "    shifts.append(dfShift)\n",
    "    \n",
    "df_shift = pd.concat(shifts,axis=1).T\n",
    "# df_shift = pd.DataFrame(shifts,index=dfNSORTPath.index,columns=dfNSORTPath.columns)\n",
    "df_shift = df_shift.sort_values(by=dfNSORTPath.columns.tolist(),axis=0)\n",
    "df_shift"
   ]
  },
  {
   "cell_type": "markdown",
   "metadata": {},
   "source": [
    "## >> Write all ABS Files"
   ]
  },
  {
   "cell_type": "code",
   "execution_count": 99,
   "metadata": {},
   "outputs": [
    {
     "name": "stdout",
     "output_type": "stream",
     "text": [
      "--> Writing membrane_solutions/AUTONSORTED2/Dow 07 D2O Soln 10CB NoShift.ABS\n",
      "--> Writing membrane_solutions/AUTONSORTED2/Dow 07 D2O Soln 6ROT NoShift.ABS\n",
      "--> Writing membrane_solutions/AUTONSORTED2/Dow 07 dTHF Soln 10CB NoShift.ABS\n",
      "--> Writing membrane_solutions/AUTONSORTED2/Dow 07 dTHF Soln 6ROT NoShift.ABS\n",
      "--> Writing membrane_solutions/AUTONSORTED2/Dow 08 D2O Soln 10CB NoShift.ABS\n",
      "--> Writing membrane_solutions/AUTONSORTED2/Dow 08 D2O Soln 6ROT NoShift.ABS\n",
      "--> Writing membrane_solutions/AUTONSORTED2/Dow 08 dTHF Soln 10CB NoShift.ABS\n",
      "--> Writing membrane_solutions/AUTONSORTED2/Dow 08 dTHF Soln 6ROT NoShift.ABS\n",
      "--> Writing membrane_solutions/AUTONSORTED2/SWC 04 D2O Soln 10CB NoShift.ABS\n",
      "--> Writing membrane_solutions/AUTONSORTED2/SWC 04 D2O Soln 6ROT NoShift.ABS\n",
      "--> Writing membrane_solutions/AUTONSORTED2/SWC 04 dTHF Soln 10CB NoShift.ABS\n",
      "--> Writing membrane_solutions/AUTONSORTED2/SWC 04 dTHF Soln 6ROT NoShift.ABS\n"
     ]
    }
   ],
   "source": [
    "AUTONSORT_path = ABS_path / 'AUTONSORTED'\n",
    "if not AUTONSORT_path.exists():\n",
    "    AUTONSORT_path.mkdir()\n",
    "    \n",
    "for label,sdfABS in dfNSORTPath.iterrows():\n",
    "    sdfShift = df_shift.loc[label]\n",
    "    fname = label.strip() + '.ABS'\n",
    "    print('--> Writing {}'.format(AUTONSORT_path/fname))\n",
    "    typySANS.writeABS(fname,sdfABS,sdfShift,shiftConfig,df_trim,path=AUTONSORT_path,shift=True)"
   ]
  },
  {
   "cell_type": "markdown",
   "metadata": {},
   "source": [
    "## !> Check AUTO-NSORTED ABS Files"
   ]
  },
  {
   "cell_type": "code",
   "execution_count": 90,
   "metadata": {},
   "outputs": [
    {
     "data": {
      "application/vnd.jupyter.widget-view+json": {
       "model_id": "bc379de98d94439cbe9031b78d492184",
       "version_major": 2,
       "version_minor": 0
      },
      "text/plain": [
       "VBox(children=(HBox(children=(VBox(children=(SelectMultiple(layout=Layout(width='400px'), options=('Dow 07 D2O…"
      ]
     },
     "metadata": {},
     "output_type": "display_data"
    }
   ],
   "source": [
    "AUTONSORT_path = ABS_path / 'AUTONSORTED'\n",
    "AUTO_ABS_PATH = list(AUTONSORT_path.glob('*ABS'))\n",
    "MABS = typySANS.MultiPlotABS(AUTO_ABS_PATH)\n",
    "MABS.run_widget()"
   ]
  },
  {
   "cell_type": "code",
   "execution_count": null,
   "metadata": {},
   "outputs": [],
   "source": [
    "|"
   ]
  }
 ],
 "metadata": {
  "kernelspec": {
   "display_name": "Python 3",
   "language": "python",
   "name": "python3"
  },
  "language_info": {
   "codemirror_mode": {
    "name": "ipython",
    "version": 3
   },
   "file_extension": ".py",
   "mimetype": "text/x-python",
   "name": "python",
   "nbconvert_exporter": "python",
   "pygments_lexer": "ipython3",
   "version": "3.6.7"
  }
 },
 "nbformat": 4,
 "nbformat_minor": 2
}
